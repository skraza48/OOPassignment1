{
 "cells": [
  {
   "cell_type": "markdown",
   "id": "5b8e5975-245d-462d-b887-a14a7c28e706",
   "metadata": {},
   "source": [
    "THEORY QUESTIONS :"
   ]
  },
  {
   "cell_type": "code",
   "execution_count": null,
   "id": "181ef3f7-492e-4c90-a46a-3c3d28f3b813",
   "metadata": {},
   "outputs": [],
   "source": [
    "# What is object oriented programming (OOP)?\n",
    "'''\n",
    "- Object oriented programming is a programming that organizes software design around data , or objects , rather that function or logic .\n",
    "  it uses concept like classes, objects, inheritance , etc. oop aims to create reuseable and maintainable code by grouping data and \n",
    "  function that operate on that data together .\n",
    "'''"
   ]
  },
  {
   "cell_type": "code",
   "execution_count": null,
   "id": "3e3aa3d1-509d-4060-b1d6-ca1d918ede66",
   "metadata": {},
   "outputs": [],
   "source": [
    "#What is classs in oop ?\n",
    "'''\n",
    "- In oop a class is a blueprint or template that defines the properties and behaviours of a particular type of object .\n",
    "it is a user defined data type that allows you to create multiple objects, which are instances of that class, and share common characteristic and behaviours.\n",
    "\n",
    "'''"
   ]
  },
  {
   "cell_type": "code",
   "execution_count": null,
   "id": "9ff09b66-acd6-4e7e-bcb7-9fda06d74be3",
   "metadata": {},
   "outputs": [],
   "source": [
    "# What is an object in oop ?\n",
    "'''\n",
    "- In oop an object is a fundamental unit that encapsulates data and the actions or methods that operates on that data . \n",
    "'''"
   ]
  },
  {
   "cell_type": "code",
   "execution_count": null,
   "id": "4f0924dd-2315-4984-9f2d-83e1842eb7c1",
   "metadata": {},
   "outputs": [],
   "source": [
    "# What is the difference between abstraction and encapsulation?\n",
    "'''\n",
    "- ABSTRACTION:\n",
    "  1. It is a process of hiding the implementation datails and showing only the functionality to the users.\n",
    "  2. It reduce complexity , promote maintainability, and also provide clear separation between the interface and its concrete implementation.\n",
    "  3. In abstraction problems are solved at the design or interface level .\n",
    "  4 We can implement abstraction using abstract class and interfaces. \n",
    "\n",
    "  ENCAPSULATION :\n",
    "  1. It is a process os binding data and methods together in a single unite , providing controlled access to data .\n",
    "  2. Data hiding , providing access control and modularituy.\n",
    "  3. In encapsulation problems are solved at the implementation level .\n",
    "  4. It can be implemented using by access modifier i.e. private, protected and public and nested cllasses. \n",
    "'''"
   ]
  },
  {
   "cell_type": "code",
   "execution_count": null,
   "id": "f0eaa81e-cd24-44c7-9416-b235a1de19fa",
   "metadata": {},
   "outputs": [],
   "source": [
    "# What are dunder method in python?\n",
    "'''\n",
    "- Dunder methods, also known as magic methods, are special methods in Python that begin and end with double underscores (e.g., _init, __str, __len_). \n",
    "They provide a way to define how objects of a class should behave with built-in operators and functions. Dunder is short for \"double underscore.\"\n",
    "These methods enable operator overloading, allowing you to define how standard operators like +, -, *, ==, etc., should work with instances of your custom classes.\n",
    "They also allow you to customize how built-in functions like len(), str(), repr(), and others interact with your objects.\n",
    "'''"
   ]
  },
  {
   "cell_type": "code",
   "execution_count": null,
   "id": "62c1998e-f204-492f-8ca5-cfc5eafaacb7",
   "metadata": {},
   "outputs": [],
   "source": [
    "# Explain the concept of inheritance in oop ?\n",
    "'''\n",
    "- Key Concepts:\n",
    "1.Code Reusability: The child class reuses code from the parent class, reducing redundancy.\n",
    "\n",
    "2.Hierarchical Relationship: It creates an \"is-a\" relationship. For example, a Dog class is a Animal.\n",
    "\n",
    "3.Extensibility: The child class can extend or override the functionality of the parent class\n",
    "'''"
   ]
  },
  {
   "cell_type": "code",
   "execution_count": null,
   "id": "59eab8d6-66df-4ebf-8415-c8cce81fb4b7",
   "metadata": {},
   "outputs": [],
   "source": [
    "# What is polymorphism in oop ?\n",
    "'''\n",
    "- Polymorphism in Object-Oriented Programming (OOP) refers to the ability of different objects to respond to the same method call in different ways.\n",
    "It allows methods to do different things based on the object calling them, even if they share the same name.\n",
    "'''"
   ]
  },
  {
   "cell_type": "code",
   "execution_count": null,
   "id": "5edb6f10-90d7-4c56-8032-2dc6cdd8adf0",
   "metadata": {},
   "outputs": [],
   "source": [
    "# How is encapsulation achieved in python?\n",
    "'''\n",
    "- Encapsulation in Python is achieved by restricting access to certain components of an object and bundling data (attributes) \n",
    "and methods (functions) that operate on that data into a single unit—i.e., a class.\n",
    "example:\n",
    "class Person:\n",
    "    def _init_(self, name, age):\n",
    "        self.name = name            # Public\n",
    "        self._age = age             # Protected\n",
    "        self.__salary = 50000       # Private\n",
    "\n",
    "    def get_salary(self):\n",
    "        return self.__salary\n",
    "\n",
    "    def set_salary(self, amount):\n",
    "        if amount > 0:\n",
    "            self.__salary = amount\n",
    "\n",
    "p = Person(\"Alice\", 30)\n",
    "print(p.name)           # OK\n",
    "print(p._age)           # OK, but not recommended\n",
    "# print(p.__salary)     # Error: AttributeError\n",
    "print(p.get_salary())   # Access via getter\n",
    "\n",
    "'''"
   ]
  },
  {
   "cell_type": "code",
   "execution_count": null,
   "id": "abbdb1c4-be62-4ab1-bde5-a5bb8ec4224d",
   "metadata": {},
   "outputs": [],
   "source": [
    "# What is constructor in python ?\n",
    "'''\n",
    "- In Python, a constructor is a special method used to initialize a newly created object of a class. The constructor method is called _init_.\n",
    "example : \n",
    "class ClassName:\n",
    "    def _init_(self, parameters):\n",
    "        # Initialization code\n",
    "        self.attribute = parameters\n",
    "'''"
   ]
  },
  {
   "cell_type": "code",
   "execution_count": null,
   "id": "5f8ef442-2edb-42f5-a732-3d1de77da535",
   "metadata": {},
   "outputs": [],
   "source": [
    "# What are class and static methods in python ?\n",
    "'''\n",
    "- 1. Class Method\n",
    "*Defined using @classmethod.\n",
    "\n",
    "*Takes cls as the first parameter (not self).\n",
    "\n",
    "*Used to access or modify class-level data.\n",
    "\n",
    "*Can be called on the class or an instance\n",
    "example:\n",
    "class Dog:\n",
    "    species = \"Canine\"\n",
    "\n",
    "    def _init_(self, name):\n",
    "        self.name = name\n",
    "\n",
    "    @classmethod\n",
    "    def get_species(cls):\n",
    "        return cls.species\n",
    "\n",
    "print(Dog.get_species())  # Output: Canine\n",
    "\n",
    "  2. Static Method\n",
    "*Defined using @staticmethod.\n",
    "\n",
    "*Does not take self or cls as the first parameter.\n",
    "\n",
    "*Acts like a regular function, but belongs to the class’s namespace.\n",
    "\n",
    "*Often used for utility functions related to the class.\n",
    "example:\n",
    "class Math:\n",
    "    @staticmethod\n",
    "    def add(x, y):\n",
    "        return x + y\n",
    "\n",
    "print(Math.add(5, 3))  # Output: 8\n",
    "\n",
    "'''"
   ]
  },
  {
   "cell_type": "code",
   "execution_count": null,
   "id": "37734c94-a1c5-4d78-9ab9-37045fd3591c",
   "metadata": {},
   "outputs": [],
   "source": [
    "# What is method overloading in python ?\n",
    "'''\n",
    "- Method overloading is the ability to define multiple methods with the same name but different parameters. However,\n",
    "Python does not support traditional method overloading like some other languages (e.g., Java or C++). In Python, \n",
    "if you define multiple methods with the same name, the last one overrides the previous ones.\n",
    "'''"
   ]
  },
  {
   "cell_type": "code",
   "execution_count": null,
   "id": "041c896a-6faf-4cd5-8465-3c797ff93d0a",
   "metadata": {},
   "outputs": [],
   "source": [
    "# What is a property decorater in python ?\n",
    "'''\n",
    "-The property decorator in Python is used to turn a method into a \"getter\" for a read-only attribute. \n",
    "It allows you to access a method like an attribute, which helps encapsulate and control access to instance data.\n",
    "'''"
   ]
  },
  {
   "cell_type": "code",
   "execution_count": null,
   "id": "062a8659-0705-44e4-9164-49f085af8fb5",
   "metadata": {},
   "outputs": [],
   "source": [
    "# Why is polymorphism important in oop?\n",
    "'''\n",
    "- Polymorphism is important in oop because :\n",
    "  1. code flexibility and reusablity \n",
    "  2. extensibility\n",
    "  3. simplifies code and reduces duplication \n",
    "  4. supports \"open/wclosed principle\"\n",
    "'''"
   ]
  },
  {
   "cell_type": "code",
   "execution_count": null,
   "id": "70d7891d-58a2-422c-86fe-164822ae3385",
   "metadata": {},
   "outputs": [],
   "source": [
    "# What is an abstract classs in python ?\n",
    "'''\n",
    "- An abstract class in Python is a class that cannot be instantiated directly. It serves as a blueprint for other classes, enforcing that certain methods must be implemented in any subclass.\n",
    "\n",
    "Python provides the abc module to define abstract classes using:\n",
    "\n",
    "ABC: The base class for abstract classes.\n",
    "\n",
    "@abstractmethod: A decorator to mark a method as abstract (must be implemented in subclasses).\n",
    "'''"
   ]
  },
  {
   "cell_type": "code",
   "execution_count": null,
   "id": "44925e33-9f5d-4f5e-a150-70dae3dd9e2d",
   "metadata": {},
   "outputs": [],
   "source": [
    "# What are the advantages of oop ?\n",
    "'''\n",
    "- 1. Modularity\n",
    "Code is organized into classes, making it easier to understand and manage.\n",
    "\n",
    "Each class is like a building block of your program.\n",
    "\n",
    "2. Reusability\n",
    "Through inheritance, you can reuse code from existing classes, avoiding duplication.\n",
    "\n",
    "Makes development faster and less error-prone.\n",
    "\n",
    "3. Encapsulation\n",
    "Keeps data and methods that operate on that data together in a class.\n",
    "\n",
    "Protects the internal state of objects using access controls (e.g., private/protected attributes).\n",
    "\n",
    "4. Abstraction\n",
    "You can hide complex details and expose only essential features.\n",
    "\n",
    "Users interact with objects through a clear interface without needing to know inner workings.\n",
    "\n",
    "5. Polymorphism\n",
    "Allows functions or methods to work with objects of different types through a common interface.\n",
    "\n",
    "Makes the code more flexible and extensible.\n",
    "\n",
    "6. Maintainability\n",
    "Easier to fix bugs and add new features because the code is organized and modular.\n",
    "\n",
    "Changes in one class typically don’t affect others.\n",
    "\n",
    "7. Scalability\n",
    "OOP makes it easier to build and manage large, complex software systems.\n",
    "\n",
    "New classes and features can be added without disrupting existing code.\n",
    "\n",
    "8. Real-World Modeling\n",
    "OOP allows you to model real-world entities naturally using classes and objects (e.g., Car, Employee, BankAccount).\n",
    "'''"
   ]
  },
  {
   "cell_type": "code",
   "execution_count": null,
   "id": "f53bc21d-da89-464f-a4d0-953a1121b4d4",
   "metadata": {},
   "outputs": [],
   "source": [
    "# What are the difference between a class  variable and an instance variable ?\n",
    "'''\n",
    "- 1. Class Variable\n",
    "Defined at the class level, outside any instance methods.\n",
    "\n",
    "Shared across all instances of the class.\n",
    "\n",
    "All instances of the class access and modify the same value of a class variable.\n",
    "\n",
    "  2. Instance Variable\n",
    "Defined within the _init_ method (or any method) and is accessed via self.\n",
    "\n",
    "Each instance of the class has its own copy of instance variables.\n",
    "\n",
    "Instance variables are specific to each object created from the class\n",
    "'''"
   ]
  },
  {
   "cell_type": "code",
   "execution_count": null,
   "id": "68298cb0-6f29-4cdf-9b0e-c39ae5b87018",
   "metadata": {},
   "outputs": [],
   "source": [
    "# What is multiple inheritance in python ?\n",
    "'''\n",
    "- Multiple Inheritance in Python:\n",
    "  Multiple inheritance in Python is a feature that allows a class to inherit from more than one base class. \n",
    "  This means that a derived class can have multiple parent classes,and it can inherit methods and attributes from all of them.\n",
    "'''"
   ]
  },
  {
   "cell_type": "code",
   "execution_count": null,
   "id": "32c2e57b-9502-485d-89e0-ab60adc2c40e",
   "metadata": {},
   "outputs": [],
   "source": [
    "# Explain the purpose of \"__str__'and'__repr__\" methods in python ?\n",
    "'''\n",
    "- 1. _str_ Method:\n",
    "The _str_ method is used to define how an object should be represented as a string for human-readable output.\n",
    "\n",
    "It is called by the str() function or when you use print() on an object.\n",
    "\n",
    "If _str_ is not defined, Python will fall back to using the _repr_ method.\n",
    "\n",
    "Purpose:\n",
    "To provide a user-friendly string representation of the object that is easy to read and understand.\n",
    "\n",
    "example:\n",
    "class Person:\n",
    "    def _init_(self, name, age):\n",
    "        self.name = name\n",
    "        self.age = age\n",
    "\n",
    "    def _str_(self):\n",
    "        return f\"Person({self.name}, {self.age})\"\n",
    "\n",
    "p = Person(\"Alice\", 30)\n",
    "print(p)  # Output: Person(Alice, 30)\n",
    "\n",
    "  2. _repr_ Method:\n",
    "The _repr_ method is used to define how an object should be represented as a string for developers or debugging purposes.\n",
    "\n",
    "It is called by the repr() function and when you enter an object in the Python shell or interactive mode.\n",
    "\n",
    "The goal of _repr_ is to return a string that could be used to recreate the object (if possible), making it suitable for debugging.\n",
    "\n",
    "Purpose:\n",
    "To provide a more formal and unambiguous string representation that helps developers understand the object and possibly recreate it.\n",
    "\n",
    "example:\n",
    "class Person:\n",
    "    def _init_(self, name, age):\n",
    "        self.name = name\n",
    "        self.age = age\n",
    "\n",
    "    def _repr_(self):\n",
    "        return f\"Person('{self.name}', {self.age})\"\n",
    "\n",
    "p = Person(\"Alice\", 30)\n",
    "print(repr(p))  # Output: Person('Alice', 30)\n",
    "'''"
   ]
  },
  {
   "cell_type": "code",
   "execution_count": null,
   "id": "e975d5dd-5407-4186-95de-007287aaf0dc",
   "metadata": {},
   "outputs": [],
   "source": [
    "# What is the significance of the 'super()' function in python ?\n",
    "'''\n",
    "- Here’s a breakdown of its significance:\n",
    "\n",
    "1.Calling Parent Class Methods: When a method is overridden in a subclass, you can still call the method from the parent class using super(). \n",
    "This helps to maintain the base functionality of the parent method while adding or modifying behavior in the subclass.\n",
    "\n",
    "2.Avoiding Hardcoding Class Names: super() helps you avoid explicitly mentioning the parent class’s name. \n",
    "This is useful in cases of multiple inheritance or when classes change, as it makes the code more maintainable.\n",
    "\n",
    "3.Multiple Inheritance: In multiple inheritance scenarios, super() can be used to ensure that the methods from each parent \n",
    "class are called in the proper order according to the method resolution order (MRO). This avoids issues that could arise from calling parent\n",
    "'''"
   ]
  },
  {
   "cell_type": "code",
   "execution_count": null,
   "id": "d55e84e1-43dc-4a0a-8e80-bd62f4cbc996",
   "metadata": {},
   "outputs": [],
   "source": [
    "# What is the significance of the __del__ method in python ?\n",
    "'''\n",
    "- Here’s a breakdown of its significance:\n",
    "1.Resource Cleanup: The primary use of _del_ is to clean up external resources (like open files, database connections, or network sockets)\n",
    "that the object might have acquired during its lifetime.\n",
    "\n",
    "2.Automatic Call: You don’t explicitly call _del_. Python's garbage collector calls it when the object is about to be destroyed\n",
    "\n",
    "3.Unpredictability: The exact moment when _del_ is called is uncertain, especially in complex programs with circular references. \n",
    "Python’s garbage collector handles object destruction, and the timing of when an object is garbage collected is not predictable.\n",
    "\n",
    "4.Limitations:\n",
    "\n",
    "If there are circular references (objects referring to each other in a cycle), the _del_ method might not be called immediately\n",
    "or may never be called because the reference count doesn’t drop to zero.\n",
    "\n",
    "If _del_ raises an exception, it can be ignored and the object’s destruction will proceed anyway.\n",
    "'''"
   ]
  },
  {
   "cell_type": "code",
   "execution_count": null,
   "id": "b5a00a22-f0c9-492f-bb01-6636f2d6507f",
   "metadata": {},
   "outputs": [],
   "source": [
    "# What is the difference between @staticmethod and @classmethod in python ?\n",
    "'''\n",
    "- @staticmethod :\n",
    "1. does not take self or cls as the first parameter.\n",
    "2. it doesnot access or modify class or instance state.\n",
    "3. it behaves like a regular function but lives in the class's namespace. \n",
    "4. used when you want group functions logically with a class but dont need access to the classor instance .\n",
    "\n",
    "  @classmethod :\n",
    "1. takes cls as thye first parameter whhich refers to the class .\n",
    "2. can access and modify class state .\n",
    "3. opften use for factory methods or methods that should effect the class as a whole. \n",
    "'''"
   ]
  },
  {
   "cell_type": "code",
   "execution_count": null,
   "id": "2e0748ed-c1a7-4ece-bcb8-25a527fc412e",
   "metadata": {},
   "outputs": [],
   "source": [
    "# How does polymorphism work in python with inheritance ?\n",
    "'''\n",
    " -  How it works :- \n",
    " 1. inheritance provides the base : aparents class defines a method .\n",
    " 2. child classes overrisde or extend ir : subclasses implement or override that method .\n",
    " 3. polymorphism in action : you can call the method on object from different subclassses using the same interfaces ,\n",
    "    and python will call the appropriate version based on the object's actual classs . \n",
    "    \n",
    "'''"
   ]
  },
  {
   "cell_type": "code",
   "execution_count": null,
   "id": "dd39a4b5-db97-45d1-bdf8-6ba914b96881",
   "metadata": {},
   "outputs": [],
   "source": [
    "# What is method changing in python oop ?\n",
    "'''\n",
    " - method changing in python oop likely refers to method changing , which is a common patterns where multiple methods are\n",
    "   called on the same object in a single line .\n",
    "   EXAMPLE: \n",
    "   lass TextEditor:\n",
    "    def _init_(self):\n",
    "        self.text = \"\"\n",
    "    \n",
    "    def write(self, content):\n",
    "        self.text += content\n",
    "        return self  # Return self to allow chaining\n",
    "    \n",
    "    def uppercase(self):\n",
    "        self.text = self.text.upper()\n",
    "        return self\n",
    "    \n",
    "    def show(self):\n",
    "        print(self.text)\n",
    "        return self\n",
    "\n",
    "# Method chaining\n",
    "editor = TextEditor()\n",
    "editor.write(\"hello \").write(\"world\").uppercase().show()\n",
    "'''"
   ]
  },
  {
   "cell_type": "code",
   "execution_count": null,
   "id": "93d31bf6-c1a8-42b6-9fac-b73dc6792479",
   "metadata": {},
   "outputs": [],
   "source": [
    "# What is the purpose of the __call__ method in python ?\n",
    "'''\n",
    " - The _call_ method in Python allows an instance of a class to be called like a regular function.\n",
    "\n",
    "Purpose:\n",
    "It lets you define custom behavior for when an object is \"called\" with parentheses, like obj().\n",
    " examples:\n",
    " class Greeter:\n",
    "    def _init_(self, name):\n",
    "        self.name = name\n",
    "\n",
    "    def _call_(self, greeting):\n",
    "        return f\"{greeting}, {self.name}!\"\n",
    "\n",
    "greet = Greeter(\"Alice\")\n",
    "print(greet(\"Hello\"))  # Output: Hello, Alice!\n",
    "'''"
   ]
  },
  {
   "cell_type": "markdown",
   "id": "3dd2342e-8e9a-4486-b77b-1204e63a6d92",
   "metadata": {},
   "source": [
    "PRACTICAL QUESTIONS:"
   ]
  },
  {
   "cell_type": "code",
   "execution_count": 1,
   "id": "6e70b9ed-00ac-40d3-b32a-4986609cd975",
   "metadata": {},
   "outputs": [
    {
     "name": "stdout",
     "output_type": "stream",
     "text": [
      "The animal makes a sound.\n",
      "Bark!\n"
     ]
    }
   ],
   "source": [
    "# Create a parent class animal with a method speak() that prints a generic messsage.create a child class dog that overrides the speak() method to print \"bark!\".\n",
    "# Parent class\n",
    "class Animal:\n",
    "    def speak(self):\n",
    "        print(\"The animal makes a sound.\")\n",
    "\n",
    "# Child class\n",
    "class Dog(Animal):\n",
    "    def speak(self):\n",
    "        print(\"Bark!\")\n",
    "\n",
    "# Example usage\n",
    "generic_animal = Animal()\n",
    "generic_animal.speak()  # Output: The animal makes a sound.\n",
    "\n",
    "dog = Dog()\n",
    "dog.speak()  # Output: Bark!\n"
   ]
  },
  {
   "cell_type": "code",
   "execution_count": 2,
   "id": "b06bcb46-df98-45b7-ba0d-cdce869e2005",
   "metadata": {},
   "outputs": [
    {
     "name": "stdout",
     "output_type": "stream",
     "text": [
      "Circle area: 78.54\n",
      "Rectangle area: 24.00\n"
     ]
    }
   ],
   "source": [
    "# Write a program to create an abstract class shape with a method area() . drive classes circle and rectangle from it and implement the area() method in both .\n",
    "from abc import ABC, abstractmethod\n",
    "import math\n",
    "\n",
    "# Abstract base class\n",
    "class Shape(ABC):\n",
    "    @abstractmethod\n",
    "    def area(self):\n",
    "        pass\n",
    "\n",
    "# Derived class: Circle\n",
    "class Circle(Shape):\n",
    "    def __init__(self, radius):\n",
    "        self.radius = radius\n",
    "\n",
    "    def area(self):\n",
    "        return math.pi * self.radius ** 2\n",
    "\n",
    "# Derived class: Rectangle\n",
    "class Rectangle(Shape):\n",
    "    def __init__(self, width, height):\n",
    "        self.width = width\n",
    "        self.height = height\n",
    "\n",
    "    def area(self):\n",
    "        return self.width * self.height\n",
    "\n",
    "# Example usage\n",
    "circle = Circle(5)\n",
    "rectangle = Rectangle(4, 6)\n",
    "\n",
    "print(f\"Circle area: {circle.area():.2f}\")       # Output: Circle area: 78.54\n",
    "print(f\"Rectangle area: {rectangle.area():.2f}\") # Output: Rectangle area: 24.00\n"
   ]
  },
  {
   "cell_type": "code",
   "execution_count": 3,
   "id": "59647852-b3d9-490a-827b-909dc9c28c45",
   "metadata": {},
   "outputs": [
    {
     "name": "stdout",
     "output_type": "stream",
     "text": [
      "Type: Electric\n",
      "Brand: Tesla\n",
      "Battery: 75 kWh\n"
     ]
    }
   ],
   "source": [
    "# Implement a multi-level inheritance scenario where a class vehicle has an attribute tyope . derive a class car and further derive a classs electric car that adds a battery attribute? \n",
    "# Base class\n",
    "class Vehicle:\n",
    "    def __init__(self, type):\n",
    "        self.type = type\n",
    "\n",
    "# Derived class\n",
    "class Car(Vehicle):\n",
    "    def __init__(self, type, brand):\n",
    "        super().__init__(type)\n",
    "        self.brand = brand\n",
    "\n",
    "# Further derived class\n",
    "class ElectricCar(Car):\n",
    "    def __init__(self, type, brand, battery):\n",
    "        super().__init__(type, brand)\n",
    "        self.battery = battery\n",
    "\n",
    "    def display_info(self):\n",
    "        print(f\"Type: {self.type}\")\n",
    "        print(f\"Brand: {self.brand}\")\n",
    "        print(f\"Battery: {self.battery} kWh\")\n",
    "\n",
    "# Example usage\n",
    "tesla = ElectricCar(\"Electric\", \"Tesla\", 75)\n",
    "tesla.display_info()\n"
   ]
  },
  {
   "cell_type": "code",
   "execution_count": 4,
   "id": "e2188780-2f71-45be-8743-a2031186e4e5",
   "metadata": {},
   "outputs": [
    {
     "name": "stdout",
     "output_type": "stream",
     "text": [
      "Sparrow flies high in the sky.\n",
      "Penguins cannot fly, they swim.\n"
     ]
    }
   ],
   "source": [
    "# Demostrate polymorphism by creating a base class bird with a method fly() . create two derive classes sparrow and penguine that override the fly () method .\n",
    "# Base class\n",
    "class Bird:\n",
    "    def fly(self):\n",
    "        print(\"Some birds can fly.\")\n",
    "\n",
    "# Derived class 1\n",
    "class Sparrow(Bird):\n",
    "    def fly(self):\n",
    "        print(\"Sparrow flies high in the sky.\")\n",
    "\n",
    "# Derived class 2\n",
    "class Penguin(Bird):\n",
    "    def fly(self):\n",
    "        print(\"Penguins cannot fly, they swim.\")\n",
    "\n",
    "# Polymorphism in action\n",
    "def bird_flight(bird):\n",
    "    bird.fly()\n",
    "\n",
    "# Example usage\n",
    "sparrow = Sparrow()\n",
    "penguin = Penguin()\n",
    "\n",
    "bird_flight(sparrow)  # Output: Sparrow flies high in the sky.\n",
    "bird_flight(penguin)  # Output: Penguins cannot fly, they swim.\n"
   ]
  },
  {
   "cell_type": "code",
   "execution_count": 5,
   "id": "bc51071d-e79e-4237-9e19-7d2ee618373f",
   "metadata": {},
   "outputs": [
    {
     "name": "stdout",
     "output_type": "stream",
     "text": [
      "Deposited: $50\n",
      "Withdrew: $30\n",
      "Current Balance: 120\n"
     ]
    }
   ],
   "source": [
    "# Write a program to demostrate encapsulation by crteating a class bank account with private attributes balance and methods to deposite , withdraw , and check balance \n",
    "class BankAccount:\n",
    "    def __init__(self, initial_balance=0):\n",
    "        self.__balance = initial_balance  # Private attribute\n",
    "\n",
    "    def deposit(self, amount):\n",
    "        if amount > 0:\n",
    "            self.__balance += amount\n",
    "            print(f\"Deposited: ${amount}\")\n",
    "        else:\n",
    "            print(\"Deposit amount must be positive.\")\n",
    "\n",
    "    def withdraw(self, amount):\n",
    "        if 0 < amount <= self.__balance:\n",
    "            self.__balance -= amount\n",
    "            print(f\"Withdrew: ${amount}\")\n",
    "        else:\n",
    "            print(\"Invalid withdrawal amount or insufficient balance.\")\n",
    "\n",
    "    def get_balance(self):\n",
    "        return self.__balance\n",
    "\n",
    "\n",
    "# Example usage:\n",
    "account = BankAccount(100)  # Create account with $100 initial balance\n",
    "account.deposit(50)         # Deposit $50\n",
    "account.withdraw(30)        # Withdraw $30\n",
    "print(\"Current Balance:\", account.get_balance())  # Check balance\n",
    "\n",
    "# Attempt to access private attribute (will raise error or be blocked)\n",
    "# print(account.__balance)  # Uncommenting this line will cause an error\n"
   ]
  },
  {
   "cell_type": "code",
   "execution_count": 6,
   "id": "e4f6e1ce-5440-4ebd-8562-b19cf33f40b0",
   "metadata": {},
   "outputs": [
    {
     "name": "stdout",
     "output_type": "stream",
     "text": [
      "Strumming the guitar\n",
      "Playing the piano\n"
     ]
    }
   ],
   "source": [
    "# Demostrate runtime polymorphism using a method play() in a base class instrument . derive classes guitar and piano that implement there own version of play().\n",
    "class Instrument:\n",
    "    def play(self):\n",
    "        print(\"Playing an instrument\")\n",
    "\n",
    "class Guitar(Instrument):\n",
    "    def play(self):\n",
    "        print(\"Strumming the guitar\")\n",
    "\n",
    "class Piano(Instrument):\n",
    "    def play(self):\n",
    "        print(\"Playing the piano\")\n",
    "\n",
    "# Function that demonstrates runtime polymorphism\n",
    "def perform(instrument: Instrument):\n",
    "    instrument.play()\n",
    "\n",
    "# Create instances of derived classes\n",
    "guitar = Guitar()\n",
    "piano = Piano()\n",
    "\n",
    "# Polymorphism in action: same method call behaves differently\n",
    "perform(guitar)  # Output: Strumming the guitar\n",
    "perform(piano)   # Output: Playing the piano\n"
   ]
  },
  {
   "cell_type": "code",
   "execution_count": 7,
   "id": "b88eca87-bc2c-4ff6-aa93-77ea7edac162",
   "metadata": {},
   "outputs": [
    {
     "name": "stdout",
     "output_type": "stream",
     "text": [
      "Addition Result: 15\n",
      "Subtraction Result: 5\n"
     ]
    }
   ],
   "source": [
    "# Create a class mathoperations with aclass method add_numbers() to add two numbers and a static method subtract_numbers() to subtract two numbers .\n",
    "class MathOperations:\n",
    "    \n",
    "    @classmethod\n",
    "    def add_numbers(cls, a, b):\n",
    "        return a + b\n",
    "\n",
    "    @staticmethod\n",
    "    def subtract_numbers(a, b):\n",
    "        return a - b\n",
    "\n",
    "# Example usage:\n",
    "result_add = MathOperations.add_numbers(10, 5)\n",
    "print(\"Addition Result:\", result_add)  # Output: 15\n",
    "\n",
    "result_subtract = MathOperations.subtract_numbers(10, 5)\n",
    "print(\"Subtraction Result:\", result_subtract)  # Output: 5\n"
   ]
  },
  {
   "cell_type": "code",
   "execution_count": 8,
   "id": "41fdace8-2083-4961-bd79-006ff1298764",
   "metadata": {},
   "outputs": [
    {
     "name": "stdout",
     "output_type": "stream",
     "text": [
      "Total Persons Created: 3\n"
     ]
    }
   ],
   "source": [
    "# Implemebnt a class person with a classs method to count the total number of person created .\n",
    "class Person:\n",
    "    count = 0  # Class variable to keep track of number of persons\n",
    "\n",
    "    def __init__(self, name):\n",
    "        self.name = name\n",
    "        Person.count += 1\n",
    "\n",
    "    @classmethod\n",
    "    def total_persons(cls):\n",
    "        return cls.count\n",
    "\n",
    "# Example usage:\n",
    "p1 = Person(\"Alice\")\n",
    "p2 = Person(\"Bob\")\n",
    "p3 = Person(\"Charlie\")\n",
    "\n",
    "print(\"Total Persons Created:\", Person.total_persons())  # Output: 3\n"
   ]
  },
  {
   "cell_type": "code",
   "execution_count": 9,
   "id": "068d7151-42b8-42c4-9a20-ac8534374a83",
   "metadata": {},
   "outputs": [
    {
     "name": "stdout",
     "output_type": "stream",
     "text": [
      "3/4\n",
      "5/1\n"
     ]
    }
   ],
   "source": [
    "# Write a class fractiohn with attributes nominator and denominator . override the str method to display the fraction as \"numerator/denominator\" .\n",
    "class Fraction:\n",
    "    def __init__(self, numerator, denominator):\n",
    "        self.numerator = numerator\n",
    "        if denominator == 0:\n",
    "            raise ValueError(\"Denominator cannot be zero.\")\n",
    "        self.denominator = denominator\n",
    "\n",
    "    def __str__(self):\n",
    "        return f\"{self.numerator}/{self.denominator}\"\n",
    "\n",
    "# Example usage:\n",
    "f1 = Fraction(3, 4)\n",
    "f2 = Fraction(5, 1)\n",
    "\n",
    "print(f1)  # Output: 3/4\n",
    "print(f2)  # Output: 5/1\n"
   ]
  },
  {
   "cell_type": "code",
   "execution_count": 10,
   "id": "13965dc1-9cb2-4100-b763-048a009f64be",
   "metadata": {},
   "outputs": [
    {
     "name": "stdout",
     "output_type": "stream",
     "text": [
      "v1: (2, 3)\n",
      "v2: (4, 5)\n",
      "v1 + v2 = (6, 8)\n"
     ]
    }
   ],
   "source": [
    "# Demonstrate operator overloading by creating a class vector and overriding the add method to add two vectors .\n",
    "class Vector:\n",
    "    def __init__(self, x, y):\n",
    "        self.x = x\n",
    "        self.y = y\n",
    "\n",
    "    def __add__(self, other):\n",
    "        if isinstance(other, Vector):\n",
    "            return Vector(self.x + other.x, self.y + other.y)\n",
    "        else:\n",
    "            raise TypeError(\"Can only add another Vector\")\n",
    "\n",
    "    def __str__(self):\n",
    "        return f\"({self.x}, {self.y})\"\n",
    "\n",
    "# Example usage:\n",
    "v1 = Vector(2, 3)\n",
    "v2 = Vector(4, 5)\n",
    "v3 = v1 + v2  # Uses overloaded '+' operator\n",
    "\n",
    "print(\"v1:\", v1)  # Output: (2, 3)\n",
    "print(\"v2:\", v2)  # Output: (4, 5)\n",
    "print(\"v1 + v2 =\", v3)  # Output: (6, 8)\n"
   ]
  },
  {
   "cell_type": "code",
   "execution_count": 11,
   "id": "7f06c1e6-7eb3-46f3-a9da-8508e366c77c",
   "metadata": {},
   "outputs": [
    {
     "name": "stdout",
     "output_type": "stream",
     "text": [
      "Hello, my name is Alice and I am 25 years old.\n"
     ]
    }
   ],
   "source": [
    "# Create a class person with attribute name and age . add a method greet() that prints \"hello,my name is {name} and i am {age} years old\".\n",
    "class Person:\n",
    "    def __init__(self, name, age):\n",
    "        self.name = name\n",
    "        self.age = age\n",
    "\n",
    "    def greet(self):\n",
    "        print(f\"Hello, my name is {self.name} and I am {self.age} years old.\")\n",
    "\n",
    "# Example usage:\n",
    "p1 = Person(\"Alice\", 25)\n",
    "p1.greet()  # Output: Hello, my name is Alice and I am 25 years old.\n"
   ]
  },
  {
   "cell_type": "code",
   "execution_count": 12,
   "id": "fdb8c803-602c-4b67-bbe1-904fb5f34002",
   "metadata": {},
   "outputs": [
    {
     "name": "stdout",
     "output_type": "stream",
     "text": [
      "John's average grade is: 86.25\n"
     ]
    }
   ],
   "source": [
    "# Implement a class student with attributes name and grades . create a method average_grade() to computer the average of the grades .\n",
    "class Student:\n",
    "    def __init__(self, name, grades):\n",
    "        self.name = name\n",
    "        self.grades = grades  # List of grades\n",
    "\n",
    "    def average_grade(self):\n",
    "        if not self.grades:\n",
    "            return 0\n",
    "        return sum(self.grades) / len(self.grades)\n",
    "\n",
    "# Example usage:\n",
    "student1 = Student(\"John\", [85, 90, 78, 92])\n",
    "print(f\"{student1.name}'s average grade is: {student1.average_grade():.2f}\")\n"
   ]
  },
  {
   "cell_type": "code",
   "execution_count": 13,
   "id": "cb63140b-2dc3-4a62-8022-231376c17aa9",
   "metadata": {},
   "outputs": [
    {
     "name": "stdout",
     "output_type": "stream",
     "text": [
      "Area of rectangle: 15\n"
     ]
    }
   ],
   "source": [
    "# Create a class rectangle with methods set_dimensions() to set the dimention and area() to calculate the area.\n",
    "class Rectangle:\n",
    "    def __init__(self):\n",
    "        self.length = 0\n",
    "        self.width = 0\n",
    "\n",
    "    def set_dimensions(self, length, width):\n",
    "        self.length = length\n",
    "        self.width = width\n",
    "\n",
    "    def area(self):\n",
    "        return self.length * self.width\n",
    "\n",
    "# Example usage:\n",
    "rect = Rectangle()\n",
    "rect.set_dimensions(5, 3)\n",
    "print(\"Area of rectangle:\", rect.area())  # Output: 15\n"
   ]
  },
  {
   "cell_type": "code",
   "execution_count": 14,
   "id": "c92385c5-d3f0-44f4-a8c8-26796de95234",
   "metadata": {},
   "outputs": [
    {
     "name": "stdout",
     "output_type": "stream",
     "text": [
      "Alice's Salary: $800\n",
      "Bob's Salary: $1700\n"
     ]
    }
   ],
   "source": [
    "# Create a calss employee with a method calculate_salary() that computer the salary based on hours worked and hourly rate. create a derived class manager that adds a bonus to the salary .\n",
    "class Employee:\n",
    "    def __init__(self, name, hours_worked, hourly_rate):\n",
    "        self.name = name\n",
    "        self.hours_worked = hours_worked\n",
    "        self.hourly_rate = hourly_rate\n",
    "\n",
    "    def calculate_salary(self):\n",
    "        return self.hours_worked * self.hourly_rate\n",
    "\n",
    "\n",
    "class Manager(Employee):\n",
    "    def __init__(self, name, hours_worked, hourly_rate, bonus):\n",
    "        super().__init__(name, hours_worked, hourly_rate)\n",
    "        self.bonus = bonus\n",
    "\n",
    "    def calculate_salary(self):\n",
    "        base_salary = super().calculate_salary()\n",
    "        return base_salary + self.bonus\n",
    "\n",
    "\n",
    "# Example usage:\n",
    "emp = Employee(\"Alice\", 40, 20)\n",
    "print(f\"{emp.name}'s Salary: ${emp.calculate_salary()}\")  # Output: 800\n",
    "\n",
    "mgr = Manager(\"Bob\", 40, 30, 500)\n",
    "print(f\"{mgr.name}'s Salary: ${mgr.calculate_salary()}\")  # Output: 1700\n",
    "\n"
   ]
  },
  {
   "cell_type": "code",
   "execution_count": 15,
   "id": "8d9feb7a-a11c-4b78-ad6f-2272ef659add",
   "metadata": {},
   "outputs": [
    {
     "name": "stdout",
     "output_type": "stream",
     "text": [
      "Total price for Laptops: $1500.00\n"
     ]
    }
   ],
   "source": [
    "# Create acalss product with attributes name , price , and quality . implement a method total_price() that calculates the total price of the product .\n",
    "class Product:\n",
    "    def __init__(self, name, price, quantity):\n",
    "        self.name = name\n",
    "        self.price = price\n",
    "        self.quantity = quantity\n",
    "\n",
    "    def total_price(self):\n",
    "        return self.price * self.quantity\n",
    "\n",
    "# Example usage:\n",
    "product1 = Product(\"Laptop\", 750.00, 2)\n",
    "print(f\"Total price for {product1.name}s: ${product1.total_price():.2f}\")\n"
   ]
  },
  {
   "cell_type": "code",
   "execution_count": 16,
   "id": "16025c76-9edf-4f99-9dea-1604b084b16d",
   "metadata": {},
   "outputs": [
    {
     "name": "stdout",
     "output_type": "stream",
     "text": [
      "Cow says: Moo\n",
      "Sheep says: Baa\n"
     ]
    }
   ],
   "source": [
    "# Create aclass animal with an extract method sound() . create two derived classes cow and sheep that implement the sound() method .\n",
    "from abc import ABC, abstractmethod\n",
    "\n",
    "class Animal(ABC):\n",
    "    @abstractmethod\n",
    "    def sound(self):\n",
    "        pass\n",
    "\n",
    "class Cow(Animal):\n",
    "    def sound(self):\n",
    "        return \"Moo\"\n",
    "\n",
    "class Sheep(Animal):\n",
    "    def sound(self):\n",
    "        return \"Baa\"\n",
    "\n",
    "# Example usage:\n",
    "cow = Cow()\n",
    "sheep = Sheep()\n",
    "\n",
    "print(\"Cow says:\", cow.sound())    # Output: Moo\n",
    "print(\"Sheep says:\", sheep.sound())  # Output: Baa\n"
   ]
  },
  {
   "cell_type": "code",
   "execution_count": 17,
   "id": "a0b86f31-2814-4494-b73a-0545f52dd58e",
   "metadata": {},
   "outputs": [
    {
     "name": "stdout",
     "output_type": "stream",
     "text": [
      "'To Kill a Mockingbird' by Harper Lee (Published in 1960)\n"
     ]
    }
   ],
   "source": [
    "# Create a calss book with attribute title , author , and year _ published . add a method get_book_info()m that returns a formated string with the book's details .\n",
    "class Book:\n",
    "    def __init__(self, title, author, year_published):\n",
    "        self.title = title\n",
    "        self.author = author\n",
    "        self.year_published = year_published\n",
    "\n",
    "    def get_book_info(self):\n",
    "        return f\"'{self.title}' by {self.author} (Published in {self.year_published})\"\n",
    "\n",
    "# Example usage:\n",
    "book1 = Book(\"To Kill a Mockingbird\", \"Harper Lee\", 1960)\n",
    "print(book1.get_book_info())\n"
   ]
  },
  {
   "cell_type": "code",
   "execution_count": null,
   "id": "9ad57fc3-6c81-4715-969c-0f0b5ed26ae2",
   "metadata": {},
   "outputs": [],
   "source": [
    "# class Book:\n",
    "    def __init__(self, title, author, year_published):\n",
    "        self.title = title\n",
    "        self.author = author\n",
    "        self.year_published = year_published\n",
    "\n",
    "    def get_book_info(self):\n",
    "        return f\"'{self.title}' by {self.author} (Published in {self.year_published})\"\n",
    "\n",
    "# Example usage:\n",
    "book1 = Book(\"To Kill a Mockingbird\", \"Harper Lee\", 1960)\n",
    "print(book1.get_book_info())\n",
    "\n"
   ]
  }
 ],
 "metadata": {
  "kernelspec": {
   "display_name": "Python 3 (ipykernel)",
   "language": "python",
   "name": "python3"
  },
  "language_info": {
   "codemirror_mode": {
    "name": "ipython",
    "version": 3
   },
   "file_extension": ".py",
   "mimetype": "text/x-python",
   "name": "python",
   "nbconvert_exporter": "python",
   "pygments_lexer": "ipython3",
   "version": "3.12.7"
  }
 },
 "nbformat": 4,
 "nbformat_minor": 5
}
